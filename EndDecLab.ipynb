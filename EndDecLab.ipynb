{
 "cells": [
  {
   "cell_type": "code",
   "execution_count": 1,
   "metadata": {},
   "outputs": [],
   "source": [
    "from transformer import *"
   ]
  },
  {
   "cell_type": "markdown",
   "metadata": {},
   "source": [
    "# Parametros"
   ]
  },
  {
   "cell_type": "code",
   "execution_count": 2,
   "metadata": {},
   "outputs": [],
   "source": [
    "# datos tanto para encoder como decoder\n",
    "vocab_size = 10000\n",
    "d_model = 512\n",
    "num_layers = 6\n",
    "num_heads = 8\n",
    "d_ff = 2048\n",
    "dropout = 0.1\n",
    "max_seq_length = 10\n",
    "batch_size = 2\n",
    "\n",
    "# datos para encoder\n",
    "tokens = torch.randint(0, vocab_size, (batch_size, max_seq_length))\n",
    "src_mask = torch.ones(batch_size, 1, max_seq_length, max_seq_length)\n",
    "\n",
    "# apartir de aqui son datos de prueba para pasar al decoder\n",
    "def generate_tgt_mask(seq_len):\n",
    "    return torch.tril(torch.ones(seq_len, seq_len)).unsqueeze(0).unsqueeze(0)\n",
    "\n",
    "tgt_seq_len = max_seq_length\n",
    "tgt = torch.randint(0, vocab_size, (batch_size, tgt_seq_len))\n",
    "tgt_mask = generate_tgt_mask(tgt_seq_len)"
   ]
  },
  {
   "cell_type": "code",
   "execution_count": 26,
   "metadata": {},
   "outputs": [
    {
     "data": {
      "text/plain": [
       "torch.int64"
      ]
     },
     "execution_count": 26,
     "metadata": {},
     "output_type": "execute_result"
    }
   ],
   "source": [
    "tokens.dtype"
   ]
  },
  {
   "cell_type": "markdown",
   "metadata": {},
   "source": [
    "# Encoder Transformer"
   ]
  },
  {
   "cell_type": "code",
   "execution_count": 3,
   "metadata": {},
   "outputs": [],
   "source": [
    "transformer_encoder = TranformerEncoder(vocab_size, d_model, num_layers, num_heads, d_ff, dropout, max_seq_length)"
   ]
  },
  {
   "cell_type": "code",
   "execution_count": 4,
   "metadata": {},
   "outputs": [],
   "source": [
    "output = transformer_encoder(tokens, src_mask)"
   ]
  },
  {
   "cell_type": "code",
   "execution_count": 5,
   "metadata": {},
   "outputs": [
    {
     "name": "stdout",
     "output_type": "stream",
     "text": [
      "torch.Size([2, 10, 512])\n"
     ]
    }
   ],
   "source": [
    "print(output.shape)"
   ]
  },
  {
   "cell_type": "code",
   "execution_count": 6,
   "metadata": {},
   "outputs": [
    {
     "data": {
      "text/plain": [
       "tensor([[[-2.0076e+00,  8.4688e-01, -1.6849e-01,  ..., -1.3073e+00,\n",
       "           5.4830e-01,  1.1646e+00],\n",
       "         [-1.1170e+00, -8.4814e-01, -1.0591e+00,  ...,  1.3519e+00,\n",
       "           3.0030e-01,  1.3062e+00],\n",
       "         [-8.1709e-01,  1.0031e+00, -1.0164e+00,  ...,  3.5864e-01,\n",
       "          -2.6820e-02,  2.5098e+00],\n",
       "         ...,\n",
       "         [ 1.1815e-01,  1.0719e-02,  8.9530e-01,  ..., -5.6693e-01,\n",
       "           6.5545e-01, -2.0252e-01],\n",
       "         [-7.2709e-01,  5.5388e-01, -1.0215e-01,  ..., -9.2923e-01,\n",
       "           9.9086e-01,  1.1848e+00],\n",
       "         [-2.3635e+00, -6.5131e-01,  8.4368e-01,  ...,  8.9355e-01,\n",
       "           3.5279e-01, -3.0267e-02]],\n",
       "\n",
       "        [[ 7.4488e-02,  5.1456e-01,  3.1903e-01,  ...,  8.3846e-01,\n",
       "          -4.7906e-01,  7.5857e-01],\n",
       "         [ 2.1136e-03,  1.3668e+00,  1.2675e+00,  ..., -7.6160e-01,\n",
       "          -9.0839e-01,  1.7725e+00],\n",
       "         [-9.1972e-01,  6.6305e-01, -3.5218e-01,  ..., -2.8923e-01,\n",
       "           1.0341e+00, -8.9025e-01],\n",
       "         ...,\n",
       "         [-1.6358e-01, -1.3393e+00,  1.3688e+00,  ...,  9.3674e-01,\n",
       "          -3.2228e-02,  1.4217e-01],\n",
       "         [-1.3377e+00,  1.6246e+00,  1.4684e+00,  ..., -1.2210e+00,\n",
       "           8.8225e-01,  1.3994e+00],\n",
       "         [-1.7154e+00,  8.9986e-01,  9.4173e-01,  ...,  7.6831e-01,\n",
       "          -1.1874e+00,  2.1162e-01]]], grad_fn=<NativeLayerNormBackward0>)"
      ]
     },
     "execution_count": 6,
     "metadata": {},
     "output_type": "execute_result"
    }
   ],
   "source": [
    "output"
   ]
  },
  {
   "cell_type": "code",
   "execution_count": 6,
   "metadata": {},
   "outputs": [],
   "source": [
    "classifier = ClassifierHead(d_model, num_classes=5)"
   ]
  },
  {
   "cell_type": "code",
   "execution_count": 7,
   "metadata": {},
   "outputs": [
    {
     "name": "stdout",
     "output_type": "stream",
     "text": [
      "Output shape: torch.Size([2, 5])\n",
      "Logits: tensor([[-1.9659, -2.1014, -1.3732, -1.4973, -1.3445],\n",
      "        [-2.3736, -1.6140, -1.0863, -1.8565, -1.5414]],\n",
      "       grad_fn=<LogSoftmaxBackward0>)\n"
     ]
    }
   ],
   "source": [
    "cls_respresentattion = output[:, 0, :]\n",
    "logits = classifier(cls_respresentattion)\n",
    "print(\"Output shape:\", logits.shape)\n",
    "print(\"Logits:\", logits)"
   ]
  },
  {
   "cell_type": "code",
   "execution_count": 8,
   "metadata": {},
   "outputs": [
    {
     "name": "stdout",
     "output_type": "stream",
     "text": [
      "Regression output shape: torch.Size([2, 1])\n"
     ]
    }
   ],
   "source": [
    "regressor = RegressionHead(d_model, output_dim=1)\n",
    "regression_output = regressor(cls_respresentattion)\n",
    "print(\"Regression output shape:\", regression_output.shape)"
   ]
  },
  {
   "cell_type": "code",
   "execution_count": 9,
   "metadata": {},
   "outputs": [
    {
     "data": {
      "text/plain": [
       "tensor([[-0.5168],\n",
       "        [-0.2422]], grad_fn=<AddmmBackward0>)"
      ]
     },
     "execution_count": 9,
     "metadata": {},
     "output_type": "execute_result"
    }
   ],
   "source": [
    "regression_output"
   ]
  },
  {
   "cell_type": "markdown",
   "metadata": {},
   "source": [
    "# Decoder Transformer"
   ]
  },
  {
   "cell_type": "code",
   "execution_count": 7,
   "metadata": {},
   "outputs": [],
   "source": [
    "transformer_decoder = TransformerDecoder(vocab_size, d_model, num_layers, num_heads, d_ff, dropout, max_seq_length)"
   ]
  },
  {
   "cell_type": "code",
   "execution_count": 8,
   "metadata": {},
   "outputs": [],
   "source": [
    "output_decoder = transformer_decoder(tgt, output, tgt_mask)"
   ]
  },
  {
   "cell_type": "code",
   "execution_count": 9,
   "metadata": {},
   "outputs": [
    {
     "name": "stdout",
     "output_type": "stream",
     "text": [
      "torch.Size([2, 10, 512])\n"
     ]
    }
   ],
   "source": [
    "print(output_decoder.shape)"
   ]
  },
  {
   "cell_type": "code",
   "execution_count": 10,
   "metadata": {},
   "outputs": [
    {
     "data": {
      "text/plain": [
       "tensor([[[-1.6325, -0.8952, -0.2896,  ...,  1.8141,  0.8229, -1.2697],\n",
       "         [-1.4336, -0.8342, -0.5054,  ...,  0.6502,  1.1461, -2.0581],\n",
       "         [-0.8746,  0.2679,  0.1866,  ..., -0.1587,  0.9529,  0.8123],\n",
       "         ...,\n",
       "         [-1.4320,  0.4093,  0.7586,  ...,  0.7835, -0.0945, -0.1435],\n",
       "         [ 0.0139, -0.0288,  1.0271,  ...,  0.5365,  0.0900, -0.3109],\n",
       "         [-1.9335,  1.3929,  1.1233,  ..., -0.1698,  0.7826, -0.1913]],\n",
       "\n",
       "        [[ 0.2891, -0.6804,  0.0572,  ...,  0.6331, -1.2571, -0.9006],\n",
       "         [ 1.0124, -0.4362,  0.4146,  ...,  0.6686, -0.4035, -1.4881],\n",
       "         [ 0.5934,  0.7047,  0.7788,  ..., -0.3735, -1.1724,  0.7673],\n",
       "         ...,\n",
       "         [ 0.4656,  1.0294,  1.4422,  ...,  2.5686,  0.1262, -1.8301],\n",
       "         [-0.4930, -1.1110,  1.5603,  ...,  1.1924, -0.0810, -2.0649],\n",
       "         [-0.9133,  0.8247,  0.8449,  ...,  1.1629, -0.8747,  0.0777]]],\n",
       "       grad_fn=<NativeLayerNormBackward0>)"
      ]
     },
     "execution_count": 10,
     "metadata": {},
     "output_type": "execute_result"
    }
   ],
   "source": [
    "output_decoder"
   ]
  },
  {
   "cell_type": "markdown",
   "metadata": {},
   "source": [
    "regresar probabilidades"
   ]
  },
  {
   "cell_type": "code",
   "execution_count": 12,
   "metadata": {},
   "outputs": [],
   "source": [
    "class ProjectionLayer(nn.Module):\n",
    "    def __init__(self, d_model, vocab_size):\n",
    "        super().__init__()\n",
    "        self.fc = nn.Linear(d_model, vocab_size)\n",
    "\n",
    "    def forward(self, x):\n",
    "        return self.fc(x)    \n",
    "\n",
    "projection_layer = ProjectionLayer(d_model, vocab_size)\n",
    "logits = projection_layer(output_decoder)"
   ]
  },
  {
   "cell_type": "code",
   "execution_count": 21,
   "metadata": {},
   "outputs": [
    {
     "name": "stdout",
     "output_type": "stream",
     "text": [
      "torch.Size([2, 10, 10000])\n"
     ]
    }
   ],
   "source": [
    "print(logits.shape)"
   ]
  },
  {
   "cell_type": "code",
   "execution_count": 15,
   "metadata": {},
   "outputs": [],
   "source": [
    "probs = torch.softmax(logits, dim=-1)"
   ]
  },
  {
   "cell_type": "code",
   "execution_count": 23,
   "metadata": {},
   "outputs": [
    {
     "data": {
      "text/plain": [
       "torch.Size([2, 10, 10000])"
      ]
     },
     "execution_count": 23,
     "metadata": {},
     "output_type": "execute_result"
    }
   ],
   "source": [
    "probs.shape"
   ]
  },
  {
   "cell_type": "code",
   "execution_count": 25,
   "metadata": {},
   "outputs": [
    {
     "data": {
      "text/plain": [
       "tensor([6.6772e-05, 1.0207e-04, 6.7407e-05,  ..., 5.3753e-05, 1.0967e-04,\n",
       "        7.3463e-05], grad_fn=<SelectBackward0>)"
      ]
     },
     "execution_count": 25,
     "metadata": {},
     "output_type": "execute_result"
    }
   ],
   "source": [
    "probs[0][0]"
   ]
  },
  {
   "cell_type": "code",
   "execution_count": 19,
   "metadata": {},
   "outputs": [
    {
     "data": {
      "text/plain": [
       "tensor(0.0009, grad_fn=<MaxBackward1>)"
      ]
     },
     "execution_count": 19,
     "metadata": {},
     "output_type": "execute_result"
    }
   ],
   "source": [
    "torch.max(probs[0][0])"
   ]
  },
  {
   "cell_type": "markdown",
   "metadata": {},
   "source": [
    "ok, vamos a probar con texto real el transformer"
   ]
  }
 ],
 "metadata": {
  "kernelspec": {
   "display_name": "deeplearning",
   "language": "python",
   "name": "python3"
  },
  "language_info": {
   "codemirror_mode": {
    "name": "ipython",
    "version": 3
   },
   "file_extension": ".py",
   "mimetype": "text/x-python",
   "name": "python",
   "nbconvert_exporter": "python",
   "pygments_lexer": "ipython3",
   "version": "3.12.7"
  }
 },
 "nbformat": 4,
 "nbformat_minor": 2
}
